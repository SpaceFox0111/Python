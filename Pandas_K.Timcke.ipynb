{
 "cells": [
  {
   "cell_type": "code",
   "execution_count": 1,
   "id": "e16bb912",
   "metadata": {},
   "outputs": [],
   "source": [
    "import pandas as pd\n",
    "import numpy as np"
   ]
  },
  {
   "cell_type": "code",
   "execution_count": 2,
   "id": "b5d91e88",
   "metadata": {},
   "outputs": [],
   "source": [
    "#Datensatz einlesen - als csv / put it in a Dataframe\n",
    "#der Datensatz enthält die Rangliste des Matterhorn Ultraks Extreme Berglaufes 2021 Kategorie Frauen\n",
    "df1 = pd.read_csv(\"Datensatz_pandas.csv\",sep=\";\",decimal=\",\",usecols=[\"Rank\",\"Name\",\"NATI\",\"Kategorie\",\"Jahrgang\",\"Age\"]) #Es sollen nur bestimmte Spalten eingelesen werden"
   ]
  },
  {
   "cell_type": "code",
   "execution_count": 3,
   "id": "7a4e725b",
   "metadata": {},
   "outputs": [
    {
     "name": "stdout",
     "output_type": "stream",
     "text": [
      "Index(['Rank', 'Name', 'NATI', 'Kategorie', 'Jahrgang', 'Age'], dtype='object')\n"
     ]
    }
   ],
   "source": [
    "#Check, welche Spalten eingelesen wurden\n",
    "print(df1.columns)\n"
   ]
  },
  {
   "cell_type": "code",
   "execution_count": 4,
   "id": "b28553aa",
   "metadata": {},
   "outputs": [
    {
     "name": "stdout",
     "output_type": "stream",
     "text": [
      "Rank         float64\n",
      "Name          object\n",
      "NATI          object\n",
      "Kategorie     object\n",
      "Jahrgang     float64\n",
      "Age          float64\n",
      "dtype: object\n"
     ]
    }
   ],
   "source": [
    "#Datentypen checken\n",
    "print(df1.dtypes)"
   ]
  },
  {
   "cell_type": "code",
   "execution_count": 8,
   "id": "ff720719",
   "metadata": {},
   "outputs": [
    {
     "name": "stdout",
     "output_type": "stream",
     "text": [
      "    Rank                     Name NATI       Kategorie  Jahrgang   Age\n",
      "0    1.0          KRÖLL STEPHANIE  AUT   Extreme - W30    1990.0  32.0\n",
      "1    2.0          GERARDI HILLARY  USA   Extreme - W30    1986.0  36.0\n",
      "2    3.0              PESSEY IRIS  FRA    Extreme - W1    1992.0  30.0\n",
      "3    4.0          NORDSKAR SYLVIA  NOR    Extreme - W1    1993.0  29.0\n",
      "4    5.0    EL KOTT HELANDER LINA  SWE    Extreme - W1    1994.0  28.0\n",
      "5    6.0          FATTON MARIANNE  SUI    Extreme - W1    1995.0  27.0\n",
      "6    7.0              MAYER PAULA  GER    Extreme - W1    1997.0  25.0\n",
      "7    NaN                      NaN  NaN             NaN       NaN   NaN\n",
      "8    8.0   EL KOTT HELANDER SANNA  SWE    Extreme - W1    1994.0  28.0\n",
      "9    9.0           PERRIER GAËLLE  SUI   Extreme - W30    1987.0  35.0\n",
      "10  10.0              MUJIKA MAYI  ESP   Extreme - W30    1988.0  34.0\n",
      "11  11.0         GRANDJEAN NOEMIE  FRA   Extreme - W30    1985.0  37.0\n",
      "12  12.0           ÅSTRÖM JOHANNA  SWE    Extreme - W1    1995.0  27.0\n",
      "13  13.0                KOLBL REA  USA   Extreme - W30    1991.0  31.0\n",
      "14   NaN                      NaN  NaN             NaN       NaN   NaN\n",
      "15  14.0          TINDLEY GEORGIA  GBR    Extreme - W1    1992.0  30.0\n",
      "16  15.0       NESHCHERET NATALIA  RUS   Extreme - W30    1983.0  39.0\n",
      "17   NaN                      NaN  NaN             NaN       NaN   NaN\n",
      "18  16.0             LUDWIG MORAN  USA  Extreme - W40+    1981.0  41.0\n",
      "19  17.0   TRUFFER ANNE-CHRISTINE  SUI  Extreme - W40+    1976.0  46.0\n",
      "20  18.0           HATTICH NOÉMIE  SUI   Extreme - W30    1991.0  31.0\n",
      "21  19.0        SCHEUTER ANNGRITT  GER    Extreme - W1    1992.0  30.0\n",
      "22  20.0        ROMANENS LAETICIA  SUI    Extreme - W1    1997.0  25.0\n",
      "23  21.0               SAND JANNA  SWE  Extreme - W40+    1972.0  50.0\n",
      "24  22.0  ANDRUSKEVICIUTE AUDINGA  LTU   Extreme - W30    1988.0  34.0\n",
      "25  23.0             MAURER SARAH  SUI   Extreme - W30    1982.0  40.0\n",
      "26  24.0          ROBERTO ADELINE  SUI  Extreme - W40+    1980.0  42.0\n",
      "27  25.0       LEUENBERGER MIRJAM  SUI   Extreme - W30    1985.0  37.0\n",
      "28   NaN                      NaN  NaN             NaN       NaN   NaN\n"
     ]
    }
   ],
   "source": [
    "print(df1)"
   ]
  },
  {
   "cell_type": "code",
   "execution_count": 6,
   "id": "0070e170",
   "metadata": {},
   "outputs": [
    {
     "data": {
      "text/html": [
       "<div>\n",
       "<style scoped>\n",
       "    .dataframe tbody tr th:only-of-type {\n",
       "        vertical-align: middle;\n",
       "    }\n",
       "\n",
       "    .dataframe tbody tr th {\n",
       "        vertical-align: top;\n",
       "    }\n",
       "\n",
       "    .dataframe thead th {\n",
       "        text-align: right;\n",
       "    }\n",
       "</style>\n",
       "<table border=\"1\" class=\"dataframe\">\n",
       "  <thead>\n",
       "    <tr style=\"text-align: right;\">\n",
       "      <th></th>\n",
       "      <th>Rank</th>\n",
       "      <th>Name</th>\n",
       "      <th>NATI</th>\n",
       "      <th>Kategorie</th>\n",
       "      <th>Jahrgang</th>\n",
       "      <th>Age</th>\n",
       "    </tr>\n",
       "  </thead>\n",
       "  <tbody>\n",
       "    <tr>\n",
       "      <th>0</th>\n",
       "      <td>1.0</td>\n",
       "      <td>KRÖLL STEPHANIE</td>\n",
       "      <td>AUT</td>\n",
       "      <td>Extreme - W30</td>\n",
       "      <td>1990.0</td>\n",
       "      <td>32.0</td>\n",
       "    </tr>\n",
       "    <tr>\n",
       "      <th>1</th>\n",
       "      <td>2.0</td>\n",
       "      <td>GERARDI HILLARY</td>\n",
       "      <td>USA</td>\n",
       "      <td>Extreme - W30</td>\n",
       "      <td>1986.0</td>\n",
       "      <td>36.0</td>\n",
       "    </tr>\n",
       "    <tr>\n",
       "      <th>2</th>\n",
       "      <td>3.0</td>\n",
       "      <td>PESSEY IRIS</td>\n",
       "      <td>FRA</td>\n",
       "      <td>Extreme - W1</td>\n",
       "      <td>1992.0</td>\n",
       "      <td>30.0</td>\n",
       "    </tr>\n",
       "    <tr>\n",
       "      <th>3</th>\n",
       "      <td>4.0</td>\n",
       "      <td>NORDSKAR SYLVIA</td>\n",
       "      <td>NOR</td>\n",
       "      <td>Extreme - W1</td>\n",
       "      <td>1993.0</td>\n",
       "      <td>29.0</td>\n",
       "    </tr>\n",
       "    <tr>\n",
       "      <th>4</th>\n",
       "      <td>5.0</td>\n",
       "      <td>EL KOTT HELANDER LINA</td>\n",
       "      <td>SWE</td>\n",
       "      <td>Extreme - W1</td>\n",
       "      <td>1994.0</td>\n",
       "      <td>28.0</td>\n",
       "    </tr>\n",
       "    <tr>\n",
       "      <th>5</th>\n",
       "      <td>6.0</td>\n",
       "      <td>FATTON MARIANNE</td>\n",
       "      <td>SUI</td>\n",
       "      <td>Extreme - W1</td>\n",
       "      <td>1995.0</td>\n",
       "      <td>27.0</td>\n",
       "    </tr>\n",
       "    <tr>\n",
       "      <th>6</th>\n",
       "      <td>7.0</td>\n",
       "      <td>MAYER PAULA</td>\n",
       "      <td>GER</td>\n",
       "      <td>Extreme - W1</td>\n",
       "      <td>1997.0</td>\n",
       "      <td>25.0</td>\n",
       "    </tr>\n",
       "    <tr>\n",
       "      <th>8</th>\n",
       "      <td>8.0</td>\n",
       "      <td>EL KOTT HELANDER SANNA</td>\n",
       "      <td>SWE</td>\n",
       "      <td>Extreme - W1</td>\n",
       "      <td>1994.0</td>\n",
       "      <td>28.0</td>\n",
       "    </tr>\n",
       "    <tr>\n",
       "      <th>9</th>\n",
       "      <td>9.0</td>\n",
       "      <td>PERRIER GAËLLE</td>\n",
       "      <td>SUI</td>\n",
       "      <td>Extreme - W30</td>\n",
       "      <td>1987.0</td>\n",
       "      <td>35.0</td>\n",
       "    </tr>\n",
       "    <tr>\n",
       "      <th>10</th>\n",
       "      <td>10.0</td>\n",
       "      <td>MUJIKA MAYI</td>\n",
       "      <td>ESP</td>\n",
       "      <td>Extreme - W30</td>\n",
       "      <td>1988.0</td>\n",
       "      <td>34.0</td>\n",
       "    </tr>\n",
       "    <tr>\n",
       "      <th>11</th>\n",
       "      <td>11.0</td>\n",
       "      <td>GRANDJEAN NOEMIE</td>\n",
       "      <td>FRA</td>\n",
       "      <td>Extreme - W30</td>\n",
       "      <td>1985.0</td>\n",
       "      <td>37.0</td>\n",
       "    </tr>\n",
       "    <tr>\n",
       "      <th>12</th>\n",
       "      <td>12.0</td>\n",
       "      <td>ÅSTRÖM JOHANNA</td>\n",
       "      <td>SWE</td>\n",
       "      <td>Extreme - W1</td>\n",
       "      <td>1995.0</td>\n",
       "      <td>27.0</td>\n",
       "    </tr>\n",
       "    <tr>\n",
       "      <th>13</th>\n",
       "      <td>13.0</td>\n",
       "      <td>KOLBL REA</td>\n",
       "      <td>USA</td>\n",
       "      <td>Extreme - W30</td>\n",
       "      <td>1991.0</td>\n",
       "      <td>31.0</td>\n",
       "    </tr>\n",
       "    <tr>\n",
       "      <th>15</th>\n",
       "      <td>14.0</td>\n",
       "      <td>TINDLEY GEORGIA</td>\n",
       "      <td>GBR</td>\n",
       "      <td>Extreme - W1</td>\n",
       "      <td>1992.0</td>\n",
       "      <td>30.0</td>\n",
       "    </tr>\n",
       "    <tr>\n",
       "      <th>16</th>\n",
       "      <td>15.0</td>\n",
       "      <td>NESHCHERET NATALIA</td>\n",
       "      <td>RUS</td>\n",
       "      <td>Extreme - W30</td>\n",
       "      <td>1983.0</td>\n",
       "      <td>39.0</td>\n",
       "    </tr>\n",
       "    <tr>\n",
       "      <th>18</th>\n",
       "      <td>16.0</td>\n",
       "      <td>LUDWIG MORAN</td>\n",
       "      <td>USA</td>\n",
       "      <td>Extreme - W40+</td>\n",
       "      <td>1981.0</td>\n",
       "      <td>41.0</td>\n",
       "    </tr>\n",
       "    <tr>\n",
       "      <th>19</th>\n",
       "      <td>17.0</td>\n",
       "      <td>TRUFFER ANNE-CHRISTINE</td>\n",
       "      <td>SUI</td>\n",
       "      <td>Extreme - W40+</td>\n",
       "      <td>1976.0</td>\n",
       "      <td>46.0</td>\n",
       "    </tr>\n",
       "    <tr>\n",
       "      <th>20</th>\n",
       "      <td>18.0</td>\n",
       "      <td>HATTICH NOÉMIE</td>\n",
       "      <td>SUI</td>\n",
       "      <td>Extreme - W30</td>\n",
       "      <td>1991.0</td>\n",
       "      <td>31.0</td>\n",
       "    </tr>\n",
       "    <tr>\n",
       "      <th>21</th>\n",
       "      <td>19.0</td>\n",
       "      <td>SCHEUTER ANNGRITT</td>\n",
       "      <td>GER</td>\n",
       "      <td>Extreme - W1</td>\n",
       "      <td>1992.0</td>\n",
       "      <td>30.0</td>\n",
       "    </tr>\n",
       "    <tr>\n",
       "      <th>22</th>\n",
       "      <td>20.0</td>\n",
       "      <td>ROMANENS LAETICIA</td>\n",
       "      <td>SUI</td>\n",
       "      <td>Extreme - W1</td>\n",
       "      <td>1997.0</td>\n",
       "      <td>25.0</td>\n",
       "    </tr>\n",
       "    <tr>\n",
       "      <th>23</th>\n",
       "      <td>21.0</td>\n",
       "      <td>SAND JANNA</td>\n",
       "      <td>SWE</td>\n",
       "      <td>Extreme - W40+</td>\n",
       "      <td>1972.0</td>\n",
       "      <td>50.0</td>\n",
       "    </tr>\n",
       "    <tr>\n",
       "      <th>24</th>\n",
       "      <td>22.0</td>\n",
       "      <td>ANDRUSKEVICIUTE AUDINGA</td>\n",
       "      <td>LTU</td>\n",
       "      <td>Extreme - W30</td>\n",
       "      <td>1988.0</td>\n",
       "      <td>34.0</td>\n",
       "    </tr>\n",
       "    <tr>\n",
       "      <th>25</th>\n",
       "      <td>23.0</td>\n",
       "      <td>MAURER SARAH</td>\n",
       "      <td>SUI</td>\n",
       "      <td>Extreme - W30</td>\n",
       "      <td>1982.0</td>\n",
       "      <td>40.0</td>\n",
       "    </tr>\n",
       "    <tr>\n",
       "      <th>26</th>\n",
       "      <td>24.0</td>\n",
       "      <td>ROBERTO ADELINE</td>\n",
       "      <td>SUI</td>\n",
       "      <td>Extreme - W40+</td>\n",
       "      <td>1980.0</td>\n",
       "      <td>42.0</td>\n",
       "    </tr>\n",
       "    <tr>\n",
       "      <th>27</th>\n",
       "      <td>25.0</td>\n",
       "      <td>LEUENBERGER MIRJAM</td>\n",
       "      <td>SUI</td>\n",
       "      <td>Extreme - W30</td>\n",
       "      <td>1985.0</td>\n",
       "      <td>37.0</td>\n",
       "    </tr>\n",
       "  </tbody>\n",
       "</table>\n",
       "</div>"
      ],
      "text/plain": [
       "    Rank                     Name NATI       Kategorie  Jahrgang   Age\n",
       "0    1.0          KRÖLL STEPHANIE  AUT   Extreme - W30    1990.0  32.0\n",
       "1    2.0          GERARDI HILLARY  USA   Extreme - W30    1986.0  36.0\n",
       "2    3.0              PESSEY IRIS  FRA    Extreme - W1    1992.0  30.0\n",
       "3    4.0          NORDSKAR SYLVIA  NOR    Extreme - W1    1993.0  29.0\n",
       "4    5.0    EL KOTT HELANDER LINA  SWE    Extreme - W1    1994.0  28.0\n",
       "5    6.0          FATTON MARIANNE  SUI    Extreme - W1    1995.0  27.0\n",
       "6    7.0              MAYER PAULA  GER    Extreme - W1    1997.0  25.0\n",
       "8    8.0   EL KOTT HELANDER SANNA  SWE    Extreme - W1    1994.0  28.0\n",
       "9    9.0           PERRIER GAËLLE  SUI   Extreme - W30    1987.0  35.0\n",
       "10  10.0              MUJIKA MAYI  ESP   Extreme - W30    1988.0  34.0\n",
       "11  11.0         GRANDJEAN NOEMIE  FRA   Extreme - W30    1985.0  37.0\n",
       "12  12.0           ÅSTRÖM JOHANNA  SWE    Extreme - W1    1995.0  27.0\n",
       "13  13.0                KOLBL REA  USA   Extreme - W30    1991.0  31.0\n",
       "15  14.0          TINDLEY GEORGIA  GBR    Extreme - W1    1992.0  30.0\n",
       "16  15.0       NESHCHERET NATALIA  RUS   Extreme - W30    1983.0  39.0\n",
       "18  16.0             LUDWIG MORAN  USA  Extreme - W40+    1981.0  41.0\n",
       "19  17.0   TRUFFER ANNE-CHRISTINE  SUI  Extreme - W40+    1976.0  46.0\n",
       "20  18.0           HATTICH NOÉMIE  SUI   Extreme - W30    1991.0  31.0\n",
       "21  19.0        SCHEUTER ANNGRITT  GER    Extreme - W1    1992.0  30.0\n",
       "22  20.0        ROMANENS LAETICIA  SUI    Extreme - W1    1997.0  25.0\n",
       "23  21.0               SAND JANNA  SWE  Extreme - W40+    1972.0  50.0\n",
       "24  22.0  ANDRUSKEVICIUTE AUDINGA  LTU   Extreme - W30    1988.0  34.0\n",
       "25  23.0             MAURER SARAH  SUI   Extreme - W30    1982.0  40.0\n",
       "26  24.0          ROBERTO ADELINE  SUI  Extreme - W40+    1980.0  42.0\n",
       "27  25.0       LEUENBERGER MIRJAM  SUI   Extreme - W30    1985.0  37.0"
      ]
     },
     "execution_count": 6,
     "metadata": {},
     "output_type": "execute_result"
    }
   ],
   "source": [
    "#Datensatz bereinigen - sortieren & data-cleaning\n",
    "#unvollständige Werte rauslöschen\n",
    "df1.dropna()"
   ]
  },
  {
   "cell_type": "code",
   "execution_count": 10,
   "id": "d63c2547",
   "metadata": {},
   "outputs": [
    {
     "name": "stdout",
     "output_type": "stream",
     "text": [
      "33.76\n",
      "32.0\n"
     ]
    }
   ],
   "source": [
    "#Datensatz analysieren\n",
    "#Durchschnittsalter der Athleten / Median Alter\n",
    "Durchschnittsalter = df1.Age.mean()\n",
    "print(Durchschnittsalter)\n",
    "MedianAlter = df1.Age.median()\n",
    "print(MedianAlter)"
   ]
  },
  {
   "cell_type": "code",
   "execution_count": 11,
   "id": "f7616857",
   "metadata": {},
   "outputs": [
    {
     "name": "stdout",
     "output_type": "stream",
     "text": [
      "    Rank   Age\n",
      "0    1.0  32.0\n",
      "1    2.0  36.0\n",
      "2    3.0  30.0\n",
      "3    4.0  29.0\n",
      "4    5.0  28.0\n",
      "5    6.0  27.0\n",
      "6    7.0  25.0\n",
      "7    NaN   NaN\n",
      "8    8.0  28.0\n",
      "9    9.0  35.0\n",
      "10  10.0  34.0\n",
      "11  11.0  37.0\n",
      "12  12.0  27.0\n",
      "13  13.0  31.0\n",
      "14   NaN   NaN\n",
      "15  14.0  30.0\n",
      "16  15.0  39.0\n",
      "17   NaN   NaN\n",
      "18  16.0  41.0\n",
      "19  17.0  46.0\n",
      "20  18.0  31.0\n",
      "21  19.0  30.0\n",
      "22  20.0  25.0\n",
      "23  21.0  50.0\n",
      "24  22.0  34.0\n",
      "25  23.0  40.0\n",
      "26  24.0  42.0\n",
      "27  25.0  37.0\n",
      "28   NaN   NaN\n"
     ]
    }
   ],
   "source": [
    "#new dataframe mit den Spalten Ranking und Age\n",
    "df2 = pd.read_csv(\"Datensatz_pandas.csv\",sep=\";\",decimal=\",\",usecols=[\"Rank\",\"Age\"])\n",
    "df2.dropna()\n",
    "df2.sort_values(by=\"Age\")\n",
    "print(df2)"
   ]
  },
  {
   "cell_type": "code",
   "execution_count": 22,
   "id": "7a606dd3",
   "metadata": {},
   "outputs": [
    {
     "name": "stdout",
     "output_type": "stream",
     "text": [
      "    Rank   Age\n",
      "0    1.0  32.0\n",
      "1    2.0  36.0\n",
      "2    3.0  30.0\n",
      "3    4.0  29.0\n",
      "4    5.0  28.0\n",
      "5    6.0  27.0\n",
      "6    7.0  25.0\n",
      "8    8.0  28.0\n",
      "9    9.0  35.0\n",
      "10  10.0  34.0\n",
      "11  11.0  37.0\n",
      "12  12.0  27.0\n",
      "13  13.0  31.0\n",
      "15  14.0  30.0\n",
      "16  15.0  39.0\n",
      "18  16.0  41.0\n",
      "19  17.0  46.0\n",
      "20  18.0  31.0\n",
      "21  19.0  30.0\n",
      "22  20.0  25.0\n",
      "23  21.0  50.0\n",
      "24  22.0  34.0\n",
      "25  23.0  40.0\n",
      "26  24.0  42.0\n",
      "27  25.0  37.0\n"
     ]
    }
   ],
   "source": [
    "df3 = df2.dropna()\n",
    "print(df3)"
   ]
  },
  {
   "cell_type": "code",
   "execution_count": 26,
   "id": "5effbadf",
   "metadata": {},
   "outputs": [
    {
     "name": "stdout",
     "output_type": "stream",
     "text": [
      "          Rank       Age\n",
      "Rank  1.000000  0.477031\n",
      "Age   0.477031  1.000000\n"
     ]
    }
   ],
   "source": [
    "#Gibt es eine Korrelation zwischen Ranking und Alter?\n",
    "#Interpretation: Ist der Korrelationskoeffizient r > 0, so liegt ein positiver Zusammenhang vor - dh ein Korrelationskoeffizient von 0.477031 zeigt einen positiven linearen Zusammenhang zwischen den Variablen Age und Ranking\n",
    "Korrelation = df3.corr()\n",
    "print(Korrelation)"
   ]
  },
  {
   "cell_type": "code",
   "execution_count": 24,
   "id": "cc0500fd",
   "metadata": {},
   "outputs": [
    {
     "data": {
      "text/plain": [
       "<AxesSubplot:xlabel='Rank'>"
      ]
     },
     "execution_count": 24,
     "metadata": {},
     "output_type": "execute_result"
    },
    {
     "data": {
      "image/png": "[encoded data removed]",
      "text/plain": [
       "<Figure size 432x288 with 1 Axes>"
      ]
     },
     "metadata": {
      "needs_background": "light"
     },
     "output_type": "display_data"
    }
   ],
   "source": [
    "#Datensatz visualisieren\n",
    "#Korrelation visualisieren\n",
    "df3.plot(\"Rank\")"
   ]
  },
  {
   "cell_type": "code",
   "execution_count": 25,
   "id": "a5fec8cc",
   "metadata": {},
   "outputs": [
    {
     "data": {
      "text/plain": [
       "<AxesSubplot:xlabel='Rank'>"
      ]
     },
     "execution_count": 25,
     "metadata": {},
     "output_type": "execute_result"
    },
    {
     "data": {
      "image/png": "[encoded data removed]",
      "text/plain": [
       "<Figure size 432x288 with 1 Axes>"
      ]
     },
     "metadata": {
      "needs_background": "light"
     },
     "output_type": "display_data"
    }
   ],
   "source": [
    "df3.plot(\"Rank\", kind='bar')"
   ]
  },
  {
   "cell_type": "code",
   "execution_count": null,
   "id": "7590580b",
   "metadata": {},
   "outputs": [],
   "source": []
  }
 ],
 "metadata": {
  "kernelspec": {
   "display_name": "Python 3",
   "language": "python",
   "name": "python3"
  },
  "language_info": {
   "codemirror_mode": {
    "name": "ipython",
    "version": 3
   },
   "file_extension": ".py",
   "mimetype": "text/x-python",
   "name": "python",
   "nbconvert_exporter": "python",
   "pygments_lexer": "ipython3",
   "version": "3.8.8"
  }
 },
 "nbformat": 4,
 "nbformat_minor": 5
}
